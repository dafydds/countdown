{
 "cells": [
  {
   "cell_type": "code",
   "execution_count": 23,
   "id": "19c0a5df",
   "metadata": {},
   "outputs": [
    {
     "name": "stdout",
     "output_type": "stream",
     "text": [
      "230\n"
     ]
    }
   ],
   "source": [
    "import random\n",
    "from random import randint\n",
    "import ast\n",
    "\n",
    "def draw_big_number(digits = 3):\n",
    "    range_start = 10**(digits-1)\n",
    "    range_end = (10**digits)-1\n",
    "    return randint(range_start, range_end)\n",
    "\n",
    "print(draw_number())"
   ]
  },
  {
   "cell_type": "code",
   "execution_count": 24,
   "id": "a31d34e0",
   "metadata": {},
   "outputs": [
    {
     "data": {
      "text/plain": [
       "[50, 25]"
      ]
     },
     "execution_count": 24,
     "metadata": {},
     "output_type": "execute_result"
    }
   ],
   "source": [
    "def draw_from_large_set(n):\n",
    "    large_numbers = [25, 50, 75, 100]\n",
    "    return random.sample(large_numbers, n)\n",
    "\n",
    "draw_from_large_set(2)"
   ]
  },
  {
   "cell_type": "code",
   "execution_count": 25,
   "id": "2aac2614",
   "metadata": {},
   "outputs": [
    {
     "data": {
      "text/plain": [
       "[5, 4, 5, 3]"
      ]
     },
     "execution_count": 25,
     "metadata": {},
     "output_type": "execute_result"
    }
   ],
   "source": [
    "def draw_from_small_set(n):\n",
    "    small_numbers = [ 1 , 1 , 2 , 2 , 3 , 3 , 4 , 4 , 5 , 5 , 6 , 6 , 7 , 7 , 8 , 8 , 9 , 9 , 10 , 10]\n",
    "    return random.sample(small_numbers, n)\n",
    "\n",
    "draw_from_small_set(4)"
   ]
  },
  {
   "cell_type": "code",
   "execution_count": 26,
   "id": "e9c7c35e",
   "metadata": {},
   "outputs": [
    {
     "data": {
      "text/plain": [
       "[25, 75, 8, 1, 9, 3]"
      ]
     },
     "execution_count": 26,
     "metadata": {},
     "output_type": "execute_result"
    }
   ],
   "source": [
    "def draw_numbers(n_large_numbers, total_numbers = 6):\n",
    "    return draw_from_large_set(n_large_numbers) + draw_from_small_set(total_numbers - n)\n",
    "\n",
    "draw_numbers(2)"
   ]
  },
  {
   "cell_type": "code",
   "execution_count": 37,
   "id": "2ecfd303",
   "metadata": {},
   "outputs": [
    {
     "name": "stdout",
     "output_type": "stream",
     "text": [
      "The original string is : (4 - 2)/2\n",
      "The evaluated result is : 1.0\n"
     ]
    }
   ],
   "source": [
    "def parse_calculation(calc_string):\n",
    "    node = ast.parse(calc_string, mode='eval')\n",
    "    result = eval(compile(node, '<string>', 'eval'))\n",
    "    return result\n",
    "\n",
    "\n",
    "calc_string = \"(4 - 2)/2\"\n",
    "print(\"The original string is :\", calc_string)\n",
    "print(\"The evaluated result is :\", parse_calculation(calc_string))"
   ]
  },
  {
   "cell_type": "code",
   "execution_count": null,
   "id": "957dc069",
   "metadata": {},
   "outputs": [],
   "source": []
  }
 ],
 "metadata": {
  "kernelspec": {
   "display_name": "Python 3 (ipykernel)",
   "language": "python",
   "name": "python3"
  },
  "language_info": {
   "codemirror_mode": {
    "name": "ipython",
    "version": 3
   },
   "file_extension": ".py",
   "mimetype": "text/x-python",
   "name": "python",
   "nbconvert_exporter": "python",
   "pygments_lexer": "ipython3",
   "version": "3.9.12"
  }
 },
 "nbformat": 4,
 "nbformat_minor": 5
}
